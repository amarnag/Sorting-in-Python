{
 "cells": [
  {
   "cell_type": "code",
   "execution_count": 6,
   "id": "348f08ed",
   "metadata": {},
   "outputs": [],
   "source": [
    "import random\n",
    "def make_random():\n",
    "    numlist =[]\n",
    "    random.seed(17)\n",
    "    for i in range(0,10):\n",
    "        numlist.append(random.randint(1,100))\n",
    "    return numlist"
   ]
  },
  {
   "cell_type": "code",
   "execution_count": 7,
   "id": "a445f1dd",
   "metadata": {},
   "outputs": [
    {
     "data": {
      "text/plain": [
       "[67, 54, 39, 47, 38, 23, 99, 91, 91, 70]"
      ]
     },
     "execution_count": 7,
     "metadata": {},
     "output_type": "execute_result"
    }
   ],
   "source": [
    "make_random()"
   ]
  },
  {
   "cell_type": "code",
   "execution_count": 8,
   "id": "2c8bb7e4",
   "metadata": {},
   "outputs": [],
   "source": [
    "def call_make_random():\n",
    "    random_integers = make_random()\n",
    "    print(random_integers)"
   ]
  },
  {
   "cell_type": "code",
   "execution_count": 9,
   "id": "44473e1e",
   "metadata": {},
   "outputs": [
    {
     "name": "stdout",
     "output_type": "stream",
     "text": [
      "[67, 54, 39, 47, 38, 23, 99, 91, 91, 70]\n"
     ]
    }
   ],
   "source": [
    "call_make_random()"
   ]
  },
  {
   "cell_type": "markdown",
   "id": "ffc125b8",
   "metadata": {},
   "source": [
    "#### Exercise:\n",
    "Write a function make_random_real() that uses random.random() in place of \n",
    "random.randint() to build a list of 10 random reals and returns that list.\n",
    "random.random() generates a random number between 0 and 1. \n",
    "Note: we want to return a list not print it.\n",
    "Here is my run.  Your list of random reals will likely be different from mine:"
   ]
  },
  {
   "cell_type": "code",
   "execution_count": 12,
   "id": "3d5f6510",
   "metadata": {},
   "outputs": [],
   "source": [
    "def make_random_real():\n",
    "    reallist = []\n",
    "    for x in range(0,10):\n",
    "        reallist.append(random.random())\n",
    "    return reallist"
   ]
  },
  {
   "cell_type": "code",
   "execution_count": 13,
   "id": "5ac495c2",
   "metadata": {},
   "outputs": [
    {
     "data": {
      "text/plain": [
       "[0.6613830572238304,\n",
       " 0.11016204891721182,\n",
       " 0.026936778790526805,\n",
       " 0.3841711045442975,\n",
       " 0.7463951961663844,\n",
       " 0.252383767513222,\n",
       " 0.5016026705680338,\n",
       " 0.3174350905457497,\n",
       " 0.8463278091284241,\n",
       " 0.9451939145048893]"
      ]
     },
     "execution_count": 13,
     "metadata": {},
     "output_type": "execute_result"
    }
   ],
   "source": [
    "make_random_real()"
   ]
  },
  {
   "cell_type": "markdown",
   "id": "5cc86dd2",
   "metadata": {},
   "source": [
    "Rewrite make_random_real() using random.seed() to get the same random reals\n",
    "each time. Run the function twice to show that you get the same set of \n",
    "\"random\" numbers. A correct solution will display the same list each time it\n",
    "is run.  Return the list of random numbers rather than printing them.\n",
    "Here are a couple of my runs using 17 as the seed:"
   ]
  },
  {
   "cell_type": "code",
   "execution_count": 16,
   "id": "cb9ab81c",
   "metadata": {},
   "outputs": [],
   "source": [
    "def make_random_real():\n",
    "    reallst = []\n",
    "    random.seed(17)\n",
    "    for x in range(0,10):\n",
    "        reallst.append(random.random())\n",
    "    return reallst\n",
    "\n",
    "def call_random_real():\n",
    "    rand_real = make_random_real()\n",
    "    rand_real1 = make_random_real()\n",
    "    print(rand_real)\n",
    "    print(\\n)\n",
    "    print(rand_real1)"
   ]
  },
  {
   "cell_type": "code",
   "execution_count": 18,
   "id": "88a9b91c",
   "metadata": {},
   "outputs": [
    {
     "name": "stdout",
     "output_type": "stream",
     "text": [
      "[0.5219839097124932, 0.8066907771186791, 0.9604947743238768, 0.2896253777644655, 0.7661074377979527, 0.7042198668434126, 0.6613830572238304, 0.11016204891721182, 0.026936778790526805, 0.3841711045442975]\n",
      "[0.5219839097124932, 0.8066907771186791, 0.9604947743238768, 0.2896253777644655, 0.7661074377979527, 0.7042198668434126, 0.6613830572238304, 0.11016204891721182, 0.026936778790526805, 0.3841711045442975]\n"
     ]
    }
   ],
   "source": [
    "call_random_real()"
   ]
  },
  {
   "cell_type": "markdown",
   "id": "a424c3b2",
   "metadata": {},
   "source": [
    "#### Sorting"
   ]
  },
  {
   "cell_type": "code",
   "execution_count": 19,
   "id": "41bc27a6",
   "metadata": {},
   "outputs": [
    {
     "name": "stdout",
     "output_type": "stream",
     "text": [
      "[67, 54, 39, 47, 38, 23, 99, 91, 91, 70]\n",
      "[23, 38, 39, 47, 54, 67, 70, 91, 91, 99]\n"
     ]
    }
   ],
   "source": [
    "numlist = [67, 54, 39, 47, 38, 23, 99, 91, 91, 70]\n",
    "print(numlist)\n",
    "numlist.sort()\n",
    "print(numlist)"
   ]
  },
  {
   "cell_type": "code",
   "execution_count": 20,
   "id": "eca4ba88",
   "metadata": {},
   "outputs": [
    {
     "name": "stdout",
     "output_type": "stream",
     "text": [
      "[23, 38, 39, 47, 54, 67, 70, 91, 91, 99]\n"
     ]
    }
   ],
   "source": [
    "print(sorted(numlist))"
   ]
  },
  {
   "cell_type": "code",
   "execution_count": 21,
   "id": "fc7abfa3",
   "metadata": {},
   "outputs": [],
   "source": [
    "def make_alpha_list():\n",
    "    import random\n",
    "    alphabet = ['a','b','c','d','e','f','g','h','i','j','k','l','m','n','o',\n",
    "                'p','q','r','s','t','u','v','w','x','y','z']\n",
    "    random.seed(17)\n",
    "\n",
    "    alpha_list = []\n",
    "    for i in range(0,10):\n",
    "        alpha_list.append(random.choice(alphabet))\n",
    "    return alpha_list"
   ]
  },
  {
   "cell_type": "code",
   "execution_count": 23,
   "id": "27809c98",
   "metadata": {},
   "outputs": [
    {
     "data": {
      "text/plain": [
       "['q', 'n', 'z', 'j', 'l', 'j', 'f', 'y', 'w', 'w']"
      ]
     },
     "execution_count": 23,
     "metadata": {},
     "output_type": "execute_result"
    }
   ],
   "source": [
    "make_alpha_list()"
   ]
  },
  {
   "cell_type": "code",
   "execution_count": 24,
   "id": "331be3c0",
   "metadata": {},
   "outputs": [],
   "source": [
    "alphlist = ['q', 'n', 'z', 'j', 'l', 'j', 'f', 'y', 'w', 'w']"
   ]
  },
  {
   "cell_type": "code",
   "execution_count": 25,
   "id": "a0f15258",
   "metadata": {},
   "outputs": [
    {
     "name": "stdout",
     "output_type": "stream",
     "text": [
      "['q', 'n', 'z', 'j', 'l', 'j', 'f', 'y', 'w', 'w']\n",
      "['f', 'j', 'j', 'l', 'n', 'q', 'w', 'w', 'y', 'z']\n"
     ]
    }
   ],
   "source": [
    "print(alphlist)\n",
    "alphlist.sort()\n",
    "print(alphlist)"
   ]
  },
  {
   "cell_type": "code",
   "execution_count": 26,
   "id": "330b6565",
   "metadata": {},
   "outputs": [],
   "source": [
    "Alphlist = ['e', 'F', 'h', 'A', 'D', 'F', 'b', 'D', 'b', 'J']"
   ]
  },
  {
   "cell_type": "code",
   "execution_count": 27,
   "id": "cdd78cfd",
   "metadata": {},
   "outputs": [
    {
     "name": "stdout",
     "output_type": "stream",
     "text": [
      "['e', 'F', 'h', 'A', 'D', 'F', 'b', 'D', 'b', 'J']\n",
      "['A', 'D', 'D', 'F', 'F', 'J', 'b', 'b', 'e', 'h']\n"
     ]
    }
   ],
   "source": [
    "# notice following is unsatisfactory for sorting mixed upper/lower case\n",
    "print(Alphlist)\n",
    "Alphlist.sort()\n",
    "print(Alphlist)"
   ]
  },
  {
   "cell_type": "code",
   "execution_count": 28,
   "id": "aba23383",
   "metadata": {},
   "outputs": [
    {
     "name": "stdout",
     "output_type": "stream",
     "text": [
      "['A', 'D', 'D', 'F', 'F', 'J', 'b', 'b', 'e', 'h']\n",
      "['A', 'b', 'b', 'D', 'D', 'e', 'F', 'F', 'h', 'J']\n"
     ]
    }
   ],
   "source": [
    "# specifying the proper key fixes the problem\n",
    "print(Alphlist)\n",
    "Alphlist.sort(key=str.lower)\n",
    "print(Alphlist)"
   ]
  },
  {
   "cell_type": "code",
   "execution_count": 29,
   "id": "3509b05d",
   "metadata": {},
   "outputs": [],
   "source": [
    "strlist = ['now', 'is', 'the', 'time', 'for', 'all',\n",
    "    'good','men', 'to', 'come', 'to', 'the','aid', 'of', 'their', 'country']"
   ]
  },
  {
   "cell_type": "code",
   "execution_count": 30,
   "id": "eff8a5f1",
   "metadata": {},
   "outputs": [
    {
     "name": "stdout",
     "output_type": "stream",
     "text": [
      "['now', 'is', 'the', 'time', 'for', 'all', 'good', 'men', 'to', 'come', 'to', 'the', 'aid', 'of', 'their', 'country']\n",
      "['aid', 'all', 'come', 'country', 'for', 'good', 'is', 'men', 'now', 'of', 'the', 'the', 'their', 'time', 'to', 'to']\n"
     ]
    }
   ],
   "source": [
    "print(strlist)\n",
    "strlist.sort()\n",
    "print(strlist)"
   ]
  },
  {
   "cell_type": "code",
   "execution_count": 31,
   "id": "cdaadea3",
   "metadata": {},
   "outputs": [],
   "source": [
    "Strlist = ['Now', 'is', 'The', 'time', 'For', 'All',\n",
    "    'Good','men', 'To', 'come', 'to', 'the','aid', 'of', 'Their', 'country']"
   ]
  },
  {
   "cell_type": "code",
   "execution_count": 32,
   "id": "b34a083a",
   "metadata": {},
   "outputs": [
    {
     "name": "stdout",
     "output_type": "stream",
     "text": [
      "['Now', 'is', 'The', 'time', 'For', 'All', 'Good', 'men', 'To', 'come', 'to', 'the', 'aid', 'of', 'Their', 'country']\n",
      "['All', 'For', 'Good', 'Now', 'The', 'Their', 'To', 'aid', 'come', 'country', 'is', 'men', 'of', 'the', 'time', 'to']\n"
     ]
    }
   ],
   "source": [
    "# Note that all capital letters sort before lower case\n",
    "print(Strlist)\n",
    "Strlist.sort()\n",
    "print(Strlist)"
   ]
  },
  {
   "cell_type": "code",
   "execution_count": 33,
   "id": "e85fd94d",
   "metadata": {},
   "outputs": [
    {
     "name": "stdout",
     "output_type": "stream",
     "text": [
      "['All', 'For', 'Good', 'Now', 'The', 'Their', 'To', 'aid', 'come', 'country', 'is', 'men', 'of', 'the', 'time', 'to']\n",
      "['aid', 'All', 'come', 'country', 'For', 'Good', 'is', 'men', 'Now', 'of', 'The', 'the', 'Their', 'time', 'To', 'to']\n"
     ]
    }
   ],
   "source": [
    "# this treats all capital letters as if they were lower case\n",
    "print(Strlist)\n",
    "Strlist.sort(key=str.lower)\n",
    "print(Strlist)"
   ]
  },
  {
   "cell_type": "code",
   "execution_count": null,
   "id": "5b8740c9",
   "metadata": {},
   "outputs": [],
   "source": []
  }
 ],
 "metadata": {
  "kernelspec": {
   "display_name": "Python 3 (ipykernel)",
   "language": "python",
   "name": "python3"
  },
  "language_info": {
   "codemirror_mode": {
    "name": "ipython",
    "version": 3
   },
   "file_extension": ".py",
   "mimetype": "text/x-python",
   "name": "python",
   "nbconvert_exporter": "python",
   "pygments_lexer": "ipython3",
   "version": "3.9.7"
  }
 },
 "nbformat": 4,
 "nbformat_minor": 5
}
